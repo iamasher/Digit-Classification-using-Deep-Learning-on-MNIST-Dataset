### MNIST Digit Recognition Project

#### 1. Install Required Libraries
```python
!pip install tensorflow numpy matplotlib pillow
```

#### 2. Import Dependencies
```python
import numpy as np
import matplotlib.pyplot as plt
from tensorflow.keras.models import Sequential, load_model
from tensorflow.keras.layers import Dense, Flatten, Conv2D, MaxPooling2D, Dropout
from tensorflow.keras.datasets import mnist
from PIL import Image
import os
```

#### 3. Load and Preprocess MNIST Dataset
```python
(x_train, y_train), (x_test, y_test) = mnist.load_data()

# Normalize data
x_train, x_test = x_train / 255.0, x_test / 255.0
x_train = x_train.reshape(-1, 28, 28, 1)
x_test = x_test.reshape(-1, 28, 28, 1)
```

#### 4. Train and Save Model (Run only if model is not saved)
```python
model_path = "digit_detector_model.keras"
if not os.path.exists(model_path):
    model = Sequential([
        Conv2D(32, (3, 3), activation='relu', input_shape=(28, 28, 1)),
        MaxPooling2D((2, 2)),
        Dropout(0.2),
        Conv2D(64, (3, 3), activation='relu'),
        MaxPooling2D((2, 2)),
        Flatten(),
        Dense(128, activation='relu'),
        Dropout(0.5),
        Dense(10, activation='softmax')
    ])
    
    model.compile(optimizer='adam', loss='sparse_categorical_crossentropy', metrics=['accuracy'])
    history = model.fit(x_train, y_train, epochs=6, validation_split=0.1, batch_size=64)
    model.save(model_path)
    print("Model saved successfully!")
```

#### 5. Load and Evaluate Model
```python
model = load_model(model_path)
test_loss, test_accuracy = model.evaluate(x_test, y_test)
print(f"Test Accuracy: {test_accuracy:.2f}")
```

#### 6. Visualize Training Accuracy & Loss
```python
if 'history' in locals():  # Only if model was trained in this session
    plt.figure(figsize=(12, 5))
    plt.subplot(1, 2, 1)
    plt.plot(history.history['accuracy'], label='Training Accuracy')
    plt.plot(history.history['val_accuracy'], label='Validation Accuracy')
    plt.xlabel('Epochs')
    plt.ylabel('Accuracy')
    plt.legend()
    plt.title('Training and Validation Accuracy')
    
    plt.subplot(1, 2, 2)
    plt.plot(history.history['loss'], label='Training Loss')
    plt.plot(history.history['val_loss'], label='Validation Loss')
    plt.xlabel('Epochs')
    plt.ylabel('Loss')
    plt.legend()
    plt.title('Training and Validation Loss')
    plt.show()
```

#### 7. Predict Custom Images
```python
def preprocess_image(image_path):
    img = Image.open(image_path).convert('L')  # Convert to grayscale
    img = img.resize((28, 28))  # Resize
    img_array = np.array(img) / 255.0  # Normalize
    img_array = img_array.reshape(1, 28, 28, 1)  # Reshape
    return img_array, img

def predict_digit(image_path):
    img_array, img = preprocess_image(image_path)
    prediction = model.predict(img_array)
    predicted_label = np.argmax(prediction)
    plt.imshow(img, cmap='gray')
    plt.title(f"Predicted Digit: {predicted_label}")
    plt.axis('off')
    plt.show()
    print(f"Predicted Digit: {predicted_label}")

# Predict from custom images
image_paths = ["customeimage/4.png", "customeimage/5.png", "customeimage/7.png"]
for img_path in image_paths:
    predict_digit(img_path)
